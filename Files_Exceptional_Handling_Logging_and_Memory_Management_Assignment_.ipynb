{
  "nbformat": 4,
  "nbformat_minor": 0,
  "metadata": {
    "colab": {
      "provenance": [],
      "authorship_tag": "ABX9TyNI/xY8xP/+X7OhwE5LUmZz",
      "include_colab_link": true
    },
    "kernelspec": {
      "name": "python3",
      "display_name": "Python 3"
    },
    "language_info": {
      "name": "python"
    }
  },
  "cells": [
    {
      "cell_type": "markdown",
      "metadata": {
        "id": "view-in-github",
        "colab_type": "text"
      },
      "source": [
        "<a href=\"https://colab.research.google.com/github/Manishkancharla/Files_Exceptional-Handling_Logging-and-Memory-Management-Assignment-/blob/main/Files_Exceptional_Handling_Logging_and_Memory_Management_Assignment_.ipynb\" target=\"_parent\"><img src=\"https://colab.research.google.com/assets/colab-badge.svg\" alt=\"Open In Colab\"/></a>"
      ]
    },
    {
      "cell_type": "markdown",
      "source": [
        "Theory Questions :-\n",
        "\n",
        "1) What is the difference between interpreted and compiled languages?\n",
        "\n",
        "A) Interpreted Languages :-\n",
        "Execution: Code is executed line by line by an interpreter. It does not require an explicit compilation step before execution.\n",
        "Development Cycle: Faster to develop because changes can be tested immediately without compiling the entire program.\n",
        "Example in Python: Python is often considered an interpreted language because the Python interpreter reads and executes the source code directly.\n",
        "\n",
        "Compiled Languages :-\n",
        "Execution: Code is first converted (compiled) into machine code (binary) by a compiler. This binary file is then executed by the operating system.\n",
        "Development Cycle: Slower because the compilation step is required before running the program.\n",
        "Example in Python: Python uses a hybrid approach—it compiles the source code to bytecode (an intermediate form) before execution.\n",
        "\n"
      ],
      "metadata": {
        "id": "vYYARPTosxpC"
      }
    },
    {
      "cell_type": "markdown",
      "source": [
        "2) What is exception handling in Python?\n",
        "\n",
        "A) Exception handling in Python is a mechanism that allows developers to manage and respond to unexpected errors or exceptions that occur during the execution of a program. It ensures that the program can handle errors gracefully without crashing."
      ],
      "metadata": {
        "id": "y8bdp0Yms5Fl"
      }
    },
    {
      "cell_type": "markdown",
      "source": [
        "3) What is the purpose of the finally block in exception handling?\n",
        "\n",
        "A) The finally block in Python exception handling is used to define a section of code that is always executed, regardless of whether an exception occurs in the try block or not. Its primary purpose is to perform cleanup tasks or ensure that certain operations are completed, such as releasing resources, closing files, or resetting variables, even if an error occurs."
      ],
      "metadata": {
        "id": "lfhAMshcs48f"
      }
    },
    {
      "cell_type": "markdown",
      "source": [
        "4) What is logging in Python?\n",
        "\n",
        "A) Logging in Python is a method for tracking events that occur while a program runs. It provides a way to report messages that can be used for debugging, monitoring, or keeping a record of the program's behavior. The Python logging module is part of the standard library and offers a flexible and powerful way to log messages from Python programs.\n",
        "\n"
      ],
      "metadata": {
        "id": "JMhnEBjTs4xq"
      }
    },
    {
      "cell_type": "markdown",
      "source": [
        "5) What is the significance of the __del__ method in Python?\n",
        "\n",
        "A) The __del__ method in Python is a special method, also known as a destructor, that is automatically called when an object is about to be destroyed. It allows you to define custom cleanup behavior, such as releasing resources, closing files, or performing other finalization tasks before an object is deallocated."
      ],
      "metadata": {
        "id": "1GOJZdrhs4pY"
      }
    },
    {
      "cell_type": "markdown",
      "source": [
        "6) What is the difference between import and from ... import in Python?\n",
        "\n",
        "A) Import Statement :-\n",
        "Purpose: The import statement is used to include an entire module into your program.\n",
        "Usage: You access the module's functions, classes, or variables using the module's name as a prefix.\n",
        "\n",
        "From ... import Statement :-\n",
        "Purpose: The from ... import statement is used to import specific components (functions, classes, or variables) directly from a module.\n",
        "Usage: You can use the imported components directly without prefixing them with the module name."
      ],
      "metadata": {
        "id": "whf7RNbks4gw"
      }
    },
    {
      "cell_type": "markdown",
      "source": [
        "7)  How can you handle multiple exceptions in Python?\n",
        "\n",
        "A) Handling Multiple Exceptions with Separate except Blocks\n",
        "You can define separate except blocks for each type of exception you want to handle.\n",
        "\n",
        "Handling Multiple Exceptions in a Single except Block\n",
        "You can handle multiple exception types in a single except block by specifying them as a tuple.\n",
        "\n",
        "Catching All Exceptions\n",
        "You can catch all exceptions using a generic except block. This is useful for debugging or when you want to ensure the program doesn't crash unexpectedly.\n",
        "\n",
        "Combining Specific and Generic Exception Handling\n",
        "You can use specific exception handling for known errors and a generic except block for unexpected exceptions.\n",
        "\n",
        "Using else and finally with Multiple Exceptions\n",
        "The else block executes if no exceptions occur, and the finally block executes regardless of whether an exception is raised."
      ],
      "metadata": {
        "id": "uGrQtG8Js4Yp"
      }
    },
    {
      "cell_type": "markdown",
      "source": [
        "8) What is the purpose of the with statement when handling files in Python?\n",
        "\n",
        "A) The with statement in Python is used to simplify and improve the handling of resources like files. When working with files, it ensures that the file is properly opened and closed, even if an exception occurs during the execution of the code. This eliminates the need to explicitly close the file, reducing the risk of resource leaks."
      ],
      "metadata": {
        "id": "0x5bnjgms4Qt"
      }
    },
    {
      "cell_type": "markdown",
      "source": [
        "9) What is the difference between multithreading and multiprocessing?\n",
        "\n",
        "A) Multithreading :-\n",
        "Definition: Multithreading involves creating multiple threads within the same process. Threads share the same memory space but can execute concurrently.\n",
        "\n",
        "Multiprocessing :-\n",
        "Definition: Multiprocessing involves creating multiple processes, each with its own memory space. Processes can run on separate CPU cores, enabling true parallel execution."
      ],
      "metadata": {
        "id": "P5EWGR02s4H2"
      }
    },
    {
      "cell_type": "markdown",
      "source": [
        "10) What are the advantages of using logging in a program?\n",
        "\n",
        "A) 1. Centralized Debugging and Error Tracking\n",
        "Logs provide a detailed record of the program's execution, making it easier to identify and fix issues.\n",
        "Unlike print() statements, logging can include structured information like timestamps, severity levels, and contextual data.\n",
        "\n",
        "2. Granular Control over Log Levels\n",
        "Logging allows developers to categorize messages by severity:\n",
        "DEBUG: Detailed information for diagnosing issues.\n",
        "INFO: General messages about program progress.\n",
        "WARNING: Indicators of potential issues.\n",
        "ERROR: Errors that occur but do not stop the program.\n",
        "CRITICAL: Severe errors causing the program to terminate.\n",
        "This categorization makes it easier to filter and analyze logs.\n",
        "\n",
        "3. Non-Intrusive Debugging\n",
        "Logging statements can coexist with production code without interfering with functionality.\n",
        "Unlike print() statements, you can control logging output dynamically without modifying the codebase.\n",
        "\n",
        "4. Flexibility in Output Destinations\n",
        "Logs can be directed to various destinations:\n",
        "Console\n",
        "Files\n",
        "Remote servers\n",
        "Databases\n",
        "This flexibility helps centralize logs for large-scale applications or distribute them to monitoring tools.\n",
        "\n",
        "5. Customizable Formatting\n",
        "Logging supports customizable formats, including timestamps, function names, line numbers, and more. This makes logs more informative and easier to parse.\n",
        "\n",
        "6. Helps Maintain Clean Code\n",
        "Using logging keeps code cleaner by avoiding excessive print() statements scattered throughout the program.\n",
        "Logs can be easily enabled or disabled via configuration, unlike print() statements, which require manual removal.\n",
        "\n",
        "7. Improves Production Monitoring\n",
        "In production environments, logs can help monitor the application's behavior, identify issues, and provide valuable insights into performance.\n",
        "Logging integrates seamlessly with monitoring tools like ELK (Elasticsearch, Logstash, Kibana), Splunk, or Fluentd.\n",
        "\n",
        "8. Thread-Safe Logging\n",
        "The logging module is thread-safe, meaning logs from multiple threads are handled correctly without collisions or corruption.\n",
        "\n",
        "9. Scalability\n",
        "Logging scales well with the complexity and size of an application. It supports hierarchical loggers, making it easier to manage logs for different modules in large projects.\n",
        "\n",
        "10. Easier Compliance and Auditing\n",
        "Logs can serve as a historical record of application behavior, which is useful for auditing, compliance, and debugging issues in critical systems.\n"
      ],
      "metadata": {
        "id": "NX3m23Qks3_v"
      }
    },
    {
      "cell_type": "markdown",
      "source": [
        "11) What is memory management in Python?\n",
        "\n",
        "A) Memory management in Python refers to the process of efficiently allocating, managing, and freeing memory during the execution of a program. Python provides automatic memory management, which simplifies the developer's job, but understanding how it works can help optimize performance and avoid memory-related issues."
      ],
      "metadata": {
        "id": "gyKt3L6Qs33e"
      }
    },
    {
      "cell_type": "markdown",
      "source": [
        "12) What are the basic steps involved in exception handling in Python?\n",
        "\n",
        "A) Using the try Block\n",
        "The try block is where you write the code that might cause an exception. This is the code you want to \"try\" to execute. If an exception occurs, it will be caught by the except block, and the program will not crash.\n",
        "\n",
        "Handling the Exception with the except Block\n",
        "The except block follows the try block. It catches the exception if one occurs and allows you to handle it gracefully. You can specify the type of exception you want to catch (e.g., ZeroDivisionError, ValueError, etc.).\n",
        "\n",
        "Optionally Using the else Block\n",
        "The else block is optional and runs if no exception occurs in the try block. It is useful for code that should only run if no exceptions were raised.\n",
        "\n",
        "Optionally Using the finally Block\n",
        "The finally block is optional and executes regardless of whether an exception occurred or not. It is typically used for cleanup tasks, such as closing files or releasing resources."
      ],
      "metadata": {
        "id": "dVimH1WTs3vH"
      }
    },
    {
      "cell_type": "markdown",
      "source": [
        "13) Why is memory management important in Python?\n",
        "\n",
        "A) Memory management is crucial in Python for several reasons, particularly related to performance, resource utilization, and program stability. Since Python is designed to handle a lot of memory management tasks automatically, understanding why and how it works can help developers write more efficient and robust code."
      ],
      "metadata": {
        "id": "ksrjVV-Ks3nu"
      }
    },
    {
      "cell_type": "markdown",
      "source": [
        "14) What is the role of try and except in exception handling?\n",
        "\n",
        "A) The try Block:\n",
        "The try block is used to wrap the code that might raise an exception. This is the section where the program attempts to execute some code that may potentially cause an error.\n",
        "\n",
        "Purpose: The code inside the try block is the one you \"try\" to execute, but since it may raise an exception, it is surrounded by try to handle any potential errors.\n",
        "\n",
        "The except Block:\n",
        "The except block is used to catch and handle exceptions that occur in the try block. When an error occurs, the program jumps to the except block to handle the exception gracefully instead of terminating the program.\n",
        "\n",
        "Purpose: The except block defines what to do if an exception is raised in the try block. You can specify different types of exceptions to handle different error conditions.\n",
        "\n",
        "Handling Specific Exceptions: You can catch specific exceptions (e.g., ZeroDivisionError, ValueError, etc.) to handle them in a more targeted way."
      ],
      "metadata": {
        "id": "dMOwz8Ofs3fH"
      }
    },
    {
      "cell_type": "markdown",
      "source": [
        "15) How does Python's garbage collection system work?\n",
        "\n",
        "A) Python's garbage collection system is designed to automatically manage memory by reclaiming unused memory or resources that are no longer needed by the program. It helps ensure that the program does not run out of memory due to lingering unused objects. Python primarily uses reference counting and garbage collection (GC) to handle memory management."
      ],
      "metadata": {
        "id": "ciXKrkjSs3W9"
      }
    },
    {
      "cell_type": "markdown",
      "source": [
        "16) What is the purpose of the else block in exception handling?\n",
        "\n",
        "A) Execute Code After Successful Execution: The else block is executed only if no exception occurs in the try block. It allows you to run code that should happen when everything in the try block runs successfully. This can be useful for actions that are only needed when no errors have been raised (e.g., processing the result of a successful operation).\n",
        "\n",
        "Improving Code Readability: Using the else block helps in making the code more readable and logically separated. It clearly distinguishes between:\n",
        "\n",
        "Code that deals with exceptional conditions (in the except block).\n",
        "Code that runs when everything goes smoothly (in the else block).\n",
        "Avoiding Unnecessary Checks: Without the else block, you might place code that should only run after a successful operation inside the try block itself. The else block helps to avoid placing non-exception-related code inside the try block, reducing unnecessary complexity."
      ],
      "metadata": {
        "id": "ewkGDoE3s3Of"
      }
    },
    {
      "cell_type": "markdown",
      "source": [
        "17) What are the common logging levels in Python?\n",
        "\n",
        "A) DEBUG\n",
        "Purpose: Provides detailed information, typically useful for diagnosing problems or understanding program flow during development. It is the lowest level and includes very fine-grained messages.\n",
        "Use Case: This level is useful during development and debugging. You would use it to log variable values, execution paths, and other granular details.\n",
        "\n",
        "INFO\n",
        "Purpose: Used to log general information about the system's operations. These messages are often used to indicate that the program is functioning as expected.\n",
        "Use Case: Typically used for logging routine operations, such as the start of a process, successful completions, or major milestones in the application.\n",
        "\n",
        " WARNING\n",
        "Purpose: Indicates a potential issue or something that is not ideal but does not prevent the program from functioning. It is more serious than an INFO message, but the program can continue.\n",
        "Use Case: Used for situations where something might go wrong or could be improved, such as deprecated features, potential resource constraints, or unexpected but non-fatal conditions.\n",
        "\n",
        "ERROR\n",
        "Purpose: Used to log more serious issues that affect the functionality of the program. An ERROR indicates that a problem has occurred, but the program can usually continue to run.\n",
        "Use Case: This level is used when an operation fails or something goes wrong but does not crash the program. Examples include failed database queries or file I/O errors.\n",
        "\n",
        "CRITICAL\n",
        "Purpose: Represents the most severe level of logging, indicating a very serious error that may cause the program to stop running or indicate a major failure in the system.\n",
        "Use Case: Used for critical issues, such as application crashes, system outages, or situations where the application cannot proceed without intervention.\n"
      ],
      "metadata": {
        "id": "Zij5EYqVs3FA"
      }
    },
    {
      "cell_type": "markdown",
      "source": [],
      "metadata": {
        "id": "yiFEI3jks29H"
      }
    },
    {
      "cell_type": "markdown",
      "source": [
        "18) What is the difference between os.fork() and multiprocessing in Python?\n",
        "\n",
        "A) os.fork()\n",
        "The os.fork() function is part of Python's os module and is used to create a new child process by duplicating the current process. The child process gets a copy of the parent's memory, and both processes run independently after the fork. This function is available only on Unix-like operating systems (Linux, macOS), and does not work on Windows.\n",
        "\n",
        "multiprocessing Module\n",
        "The multiprocessing module provides a higher-level, more flexible, and platform-independent way to create and manage processes. It is a part of Python's standard library and supports creating processes, managing inter-process communication (IPC), and process synchronization. Unlike os.fork(), multiprocessing works across different platforms, including Windows, Linux, and macOS."
      ],
      "metadata": {
        "id": "JDH-QAyys20-"
      }
    },
    {
      "cell_type": "markdown",
      "source": [
        "19) What is the importance of closing a file in Python?\n",
        "\n",
        "A) 1. Releasing System Resources\n",
        "When you open a file, the operating system allocates certain system resources, such as file descriptors or memory, to handle the file operations. If you don’t close the file after using it, those resources are not released, potentially leading to resource leaks. In the case of a program that opens many files without closing them, the system may run out of file descriptors or other resources, which can prevent opening new files or cause system instability.\n",
        "\n",
        "Example: If you open multiple files in a program and never close them, you may encounter issues like hitting the operating system’s file descriptor limit.\n",
        "2. Ensuring Data is Written to the File\n",
        "When you write to a file, the data is often not immediately written to the file. Instead, it is buffered in memory to optimize performance. This means that if the file is not closed properly, some data may never be written to the file, causing data loss.\n",
        "\n",
        "Buffered Write: Python uses a file buffer, meaning that writes to a file are cached in memory and flushed to disk only periodically or when the file is closed.\n",
        "\n",
        "Flushing the Buffer: When you call the close() method, it automatically flushes any buffered data to the file, ensuring that all data is written to the disk.\n",
        "\n",
        "3. Avoiding File Corruption\n",
        "If you do not close a file properly (especially when writing to it), the file can become corrupted. This is because the file may still be in the process of being written to or closed by the operating system, and if the program crashes or the file handle is not released, you could lose data or corrupt the file’s structure.\n",
        "\n",
        "4. Improving Program Efficiency\n",
        "By closing a file, you allow the system to manage its resources more effectively. Keeping files open consumes system resources (like memory and file descriptors), which could affect the performance of your program or other programs that need access to those resources. Closing files when you're done with them helps to free up these resources, making the program more efficient.\n",
        "\n",
        "5. Ensuring Proper Program Behavior in Long-Running Programs\n",
        "For long-running programs (such as server applications), it’s especially important to manage resources like open files carefully. Failing to close files after each use can result in system performance degradation over time."
      ],
      "metadata": {
        "id": "e1ujIBtIs2s3"
      }
    },
    {
      "cell_type": "markdown",
      "source": [
        "20) What is the difference between file.read() and file.readline() in Python?\n",
        "\n",
        "A) In Python, both file.read() and file.readline() are methods used for reading from a file, but they work differently and serve different purposes. Here's a breakdown of the differences between the two:\n",
        "\n",
        "1. file.read()\n",
        "Purpose: Reads the entire content of the file at once.\n",
        "\n",
        "How It Works:\n",
        "\n",
        "The file.read() method reads the entire file and returns it as a string.\n",
        "By default, it reads all the content until the end of the file (EOF) is reached.\n",
        "If you pass an argument, file.read(n), it reads n bytes (characters for text files) from the file.\n",
        "Use Case: It’s suitable when you want to read the whole content of a file in one go, or a specific number of bytes if you pass a parameter."
      ],
      "metadata": {
        "id": "OiFOXcn-s2lM"
      }
    },
    {
      "cell_type": "markdown",
      "source": [
        "21) What is the logging module in Python used for?\n",
        "\n",
        "A) The logging module in Python is a built-in library used for tracking events, errors, or general information that occur during the execution of a program. It allows developers to generate logs that provide valuable insights into the program's behavior, making it easier to debug issues, monitor system performance, and record important events in a structured way."
      ],
      "metadata": {
        "id": "dqgMuyVms2dL"
      }
    },
    {
      "cell_type": "markdown",
      "source": [
        "22) What is the os module in Python used for in file handling?\n",
        "\n",
        "A) The os module in Python provides a way to interact with the operating system, and it includes functions that are essential for file handling and manipulating files and directories. The os module allows you to perform tasks such as checking if a file or directory exists, renaming files, removing files, and managing file paths. It provides a higher-level interface for interacting with the filesystem beyond the built-in file handling functions (open(), read(), write(), etc.)."
      ],
      "metadata": {
        "id": "NlS5oHMfs2Vz"
      }
    },
    {
      "cell_type": "markdown",
      "source": [
        "23) What are the challenges associated with memory management in Python?\n",
        "\n",
        "A) Cyclic references: Can lead to memory leaks if not handled correctly.\n",
        "\n",
        "Memory fragmentation: Can degrade performance in long-running applications.\n",
        "\n",
        "High object overhead: Python objects carry significant memory overhead due to dynamic features.\n",
        "\n",
        "Memory leaks: Caused by undetected cyclic references, or objects that are never released.\n",
        "\n",
        "Large data structures: Can consume significant memory and reduce efficiency.\n",
        "\n",
        "Reference counting overhead: Leads to performance issues in multi-threaded environments.\n",
        "\n",
        "Global Interpreter Lock (GIL): Limits multi-threading performance, affecting memory usage efficiency.\n",
        "\n",
        "External libraries: May not integrate well with Python's memory management, leading to issues.\n",
        "\n",
        "Inefficient data structures: Standard Python data structures may consume more memory than necessary."
      ],
      "metadata": {
        "id": "WLQZTpRis2NL"
      }
    },
    {
      "cell_type": "markdown",
      "source": [
        "24) How do you raise an exception manually in Python?\n",
        "\n",
        "A) n Python, you can raise an exception manually using the raise keyword. This allows you to trigger an exception in your code at a specific point when certain conditions are met. Raising exceptions manually is useful for handling errors, enforcing constraints, or signaling that something unexpected has occurred.\n",
        "\n",
        "raise ExceptionType(\"Error message\")\n"
      ],
      "metadata": {
        "id": "mJnwIy2zs2FC"
      }
    },
    {
      "cell_type": "markdown",
      "source": [
        "25) Why is it important to use multithreading in certain applications?\n",
        "\n",
        "A) In Python, multithreading is particularly beneficial for I/O-bound tasks, such as handling network requests, reading and writing files, and improving UI responsiveness. Although the GIL limits the effectiveness of multithreading for CPU-bound tasks, it can still improve performance by allowing concurrent execution of I/O operations. When used appropriately, multithreading can make applications more responsive, efficient, and scalable, particularly when handling multiple independent tasks or managing background tasks."
      ],
      "metadata": {
        "id": "BjaQjTR7s19c"
      }
    },
    {
      "cell_type": "markdown",
      "source": [
        "Practical Questions :-"
      ],
      "metadata": {
        "id": "H8I2PYU4s11h"
      }
    },
    {
      "cell_type": "markdown",
      "source": [
        "1) How can you open a file for writing in Python and write a string to it?"
      ],
      "metadata": {
        "id": "jH9eZ-60s1tp"
      }
    },
    {
      "cell_type": "code",
      "source": [
        "# Define the string to write to the file\n",
        "text_to_write = \"Hello, this is a string that will be written to the file.\"\n",
        "\n",
        "# Open the file in write mode ('w')\n",
        "with open(\"example.txt\", \"w\") as file:\n",
        "    # Write the string to the file\n",
        "    file.write(text_to_write)\n",
        "\n",
        "# The file is automatically closed when using 'with' statement\n"
      ],
      "metadata": {
        "id": "hmY2wTld_41S"
      },
      "execution_count": 1,
      "outputs": []
    },
    {
      "cell_type": "markdown",
      "source": [
        "2)  Write a Python program to read the contents of a file and print each line?"
      ],
      "metadata": {
        "id": "taI6b5JMs1mi"
      }
    },
    {
      "cell_type": "code",
      "source": [
        "# Open the file in read mode ('r')\n",
        "with open(\"example.txt\", \"r\") as file:\n",
        "    # Iterate through each line in the file\n",
        "    for line in file:\n",
        "        # Print the line, strip() removes any extra newlines\n",
        "        print(line.strip())\n"
      ],
      "metadata": {
        "colab": {
          "base_uri": "https://localhost:8080/"
        },
        "id": "l3AB0VIIAEYp",
        "outputId": "134da06a-996e-404b-fbd6-0dd542fce49e"
      },
      "execution_count": 2,
      "outputs": [
        {
          "output_type": "stream",
          "name": "stdout",
          "text": [
            "Hello, this is a string that will be written to the file.\n"
          ]
        }
      ]
    },
    {
      "cell_type": "markdown",
      "source": [
        "3) How would you handle a case where the file doesn't exist while trying to open it for reading?"
      ],
      "metadata": {
        "id": "XvsGrEE6s1e_"
      }
    },
    {
      "cell_type": "code",
      "source": [
        "try:\n",
        "    # Attempt to open the file in read mode\n",
        "    with open(\"example.txt\", \"r\") as file:\n",
        "        # Read and print each line in the file\n",
        "        for line in file:\n",
        "            print(line.strip())  # Removes trailing newline characters\n",
        "except FileNotFoundError:\n",
        "    print(\"Error: The file 'example.txt' does not exist.\")\n"
      ],
      "metadata": {
        "colab": {
          "base_uri": "https://localhost:8080/"
        },
        "id": "l2LoXmMMAR9u",
        "outputId": "43a8e355-9177-4734-dcfd-7c5b1f858fac"
      },
      "execution_count": 3,
      "outputs": [
        {
          "output_type": "stream",
          "name": "stdout",
          "text": [
            "Hello, this is a string that will be written to the file.\n"
          ]
        }
      ]
    },
    {
      "cell_type": "markdown",
      "source": [
        "4)  Write a Python script that reads from one file and writes its content to another file?"
      ],
      "metadata": {
        "id": "eyV5Oxdds1WX"
      }
    },
    {
      "cell_type": "code",
      "source": [
        "# Define the source and destination file paths\n",
        "source_file = \"source.txt\"\n",
        "destination_file = \"destination.txt\"\n",
        "\n",
        "try:\n",
        "    # Open the source file in read mode and the destination file in write mode\n",
        "    with open(source_file, \"r\") as src, open(destination_file, \"w\") as dest:\n",
        "        # Read the content from the source file and write it to the destination file\n",
        "        content = src.read()  # Read the entire content of the source file\n",
        "        dest.write(content)  # Write the content to the destination file\n",
        "\n",
        "    print(f\"Content successfully copied from '{source_file}' to '{destination_file}'.\")\n",
        "\n",
        "except FileNotFoundError:\n",
        "    print(f\"Error: The file '{source_file}' does not exist.\")\n",
        "except IOError as e:\n",
        "    print(f\"Error: Unable to read/write to the file due to an I/O error: {e}\")\n"
      ],
      "metadata": {
        "colab": {
          "base_uri": "https://localhost:8080/"
        },
        "id": "jJZu1YjgAdAu",
        "outputId": "56166b8c-c5df-42d2-d914-20f31a26c8c2"
      },
      "execution_count": 4,
      "outputs": [
        {
          "output_type": "stream",
          "name": "stdout",
          "text": [
            "Error: The file 'source.txt' does not exist.\n"
          ]
        }
      ]
    },
    {
      "cell_type": "markdown",
      "source": [
        "5) How would you catch and handle division by zero error in Python?"
      ],
      "metadata": {
        "id": "AQx9rFEKs1Nf"
      }
    },
    {
      "cell_type": "code",
      "source": [
        "try:\n",
        "    # Attempt division\n",
        "    numerator = 10\n",
        "    denominator = 0\n",
        "    result = numerator / denominator\n",
        "    print(f\"Result: {result}\")\n",
        "except ZeroDivisionError:\n",
        "    # Handle division by zero\n",
        "    print(\"Error: Division by zero is not allowed.\")\n"
      ],
      "metadata": {
        "colab": {
          "base_uri": "https://localhost:8080/"
        },
        "id": "21DqRibrAnr-",
        "outputId": "e5fb55dd-8fe0-4b46-dfac-546f8fd324e7"
      },
      "execution_count": 5,
      "outputs": [
        {
          "output_type": "stream",
          "name": "stdout",
          "text": [
            "Error: Division by zero is not allowed.\n"
          ]
        }
      ]
    },
    {
      "cell_type": "markdown",
      "source": [
        "6) Write a Python program that logs an error message to a log file when a division by zero exception occurs?"
      ],
      "metadata": {
        "id": "Nt7ifJZ5s1F2"
      }
    },
    {
      "cell_type": "code",
      "source": [
        "import logging\n",
        "\n",
        "# Configure the logging to log to a file\n",
        "logging.basicConfig(\n",
        "    filename='error_log.txt',  # Log messages will be saved in this file\n",
        "    level=logging.ERROR,        # Log only ERROR and above severity levels\n",
        "    format='%(asctime)s - %(levelname)s - %(message)s'  # Log format including time and error level\n",
        ")\n",
        "\n",
        "try:\n",
        "    # Attempt division by zero\n",
        "    numerator = 10\n",
        "    denominator = 0\n",
        "    result = numerator / denominator\n",
        "    print(f\"Result: {result}\")\n",
        "except ZeroDivisionError as e:\n",
        "    # Log the error message to the log file\n",
        "    logging.error(f\"Division by zero error: {e}\")\n",
        "    print(\"Error: Division by zero is not allowed.\")\n"
      ],
      "metadata": {
        "colab": {
          "base_uri": "https://localhost:8080/"
        },
        "id": "Vws66M05A0TO",
        "outputId": "281150a7-1e52-4dec-b730-400cb242119a"
      },
      "execution_count": 6,
      "outputs": [
        {
          "output_type": "stream",
          "name": "stderr",
          "text": [
            "ERROR:root:Division by zero error: division by zero\n"
          ]
        },
        {
          "output_type": "stream",
          "name": "stdout",
          "text": [
            "Error: Division by zero is not allowed.\n"
          ]
        }
      ]
    },
    {
      "cell_type": "markdown",
      "source": [
        "7) How do you log information at different levels (INFO, ERROR, WARNING) in Python using the logging module?"
      ],
      "metadata": {
        "id": "oGO5JfcWs09O"
      }
    },
    {
      "cell_type": "code",
      "source": [
        "import logging\n",
        "\n",
        "# Configure the logging to log messages to a file with different log levels\n",
        "logging.basicConfig(\n",
        "    filename='application.log',  # Log messages will be saved to this file\n",
        "    level=logging.DEBUG,         # Set the logging level to DEBUG to capture all log levels\n",
        "    format='%(asctime)s - %(levelname)s - %(message)s'  # Log format with timestamp and severity level\n",
        ")\n",
        "\n",
        "# Log messages at different levels\n",
        "logging.debug(\"This is a DEBUG message.\")   # Detailed information, usually for diagnosing issues\n",
        "logging.info(\"This is an INFO message.\")    # Informational messages to track the program's flow\n",
        "logging.warning(\"This is a WARNING message.\")  # Warnings about potential issues or upcoming problems\n",
        "logging.error(\"This is an ERROR message.\")    # Errors that occurred during execution\n",
        "logging.critical(\"This is a CRITICAL message.\")  # Severe errors that might cause the program to stop\n"
      ],
      "metadata": {
        "colab": {
          "base_uri": "https://localhost:8080/"
        },
        "id": "CVmCewzTA9Pa",
        "outputId": "32726470-f3ec-42db-c33b-6f95a72dd2e0"
      },
      "execution_count": 7,
      "outputs": [
        {
          "output_type": "stream",
          "name": "stderr",
          "text": [
            "WARNING:root:This is a WARNING message.\n",
            "ERROR:root:This is an ERROR message.\n",
            "CRITICAL:root:This is a CRITICAL message.\n"
          ]
        }
      ]
    },
    {
      "cell_type": "markdown",
      "source": [
        "8) Write a program to handle a file opening error using exception handling?\n",
        "\n"
      ],
      "metadata": {
        "id": "gi96TdW0s01C"
      }
    },
    {
      "cell_type": "code",
      "source": [
        "try:\n",
        "    # Attempt to open a file in read mode\n",
        "    file = open(\"non_existent_file.txt\", \"r\")\n",
        "    # Read and print the content of the file\n",
        "    content = file.read()\n",
        "    print(content)\n",
        "except FileNotFoundError:\n",
        "    # Handle case where the file does not exist\n",
        "    print(\"Error: The file does not exist.\")\n",
        "except PermissionError:\n",
        "    # Handle case where the file cannot be opened due to permission issues\n",
        "    print(\"Error: You do not have permission to open the file.\")\n",
        "except Exception as e:\n",
        "    # Handle any other unforeseen errors\n",
        "    print(f\"An unexpected error occurred: {e}\")\n",
        "finally:\n",
        "    # Ensure the file is closed if it was opened successfully\n",
        "    try:\n",
        "        file.close()\n",
        "    except NameError:\n",
        "        # If the file variable was never assigned, skip closing\n",
        "        pass\n"
      ],
      "metadata": {
        "colab": {
          "base_uri": "https://localhost:8080/"
        },
        "id": "2mq7axmNBMf-",
        "outputId": "d98e4eb6-19e0-432c-e26d-ecf428208bee"
      },
      "execution_count": 8,
      "outputs": [
        {
          "output_type": "stream",
          "name": "stdout",
          "text": [
            "Error: The file does not exist.\n"
          ]
        }
      ]
    },
    {
      "cell_type": "markdown",
      "source": [
        "9)  How can you read a file line by line and store its content in a list in Python?"
      ],
      "metadata": {
        "id": "1icAaMLcs0tH"
      }
    },
    {
      "cell_type": "code",
      "source": [
        "# Open the file in read mode\n",
        "with open(\"example.txt\", \"r\") as file:\n",
        "    # Read all lines and store them in a list\n",
        "    lines = file.readlines()\n",
        "\n",
        "# Remove any trailing newline characters and print the list\n",
        "lines = [line.strip() for line in lines]\n",
        "print(lines)\n"
      ],
      "metadata": {
        "colab": {
          "base_uri": "https://localhost:8080/"
        },
        "id": "fSE_OqVuBfir",
        "outputId": "a230a244-246f-4b23-d8f8-09d179a5855a"
      },
      "execution_count": 9,
      "outputs": [
        {
          "output_type": "stream",
          "name": "stdout",
          "text": [
            "['Hello, this is a string that will be written to the file.']\n"
          ]
        }
      ]
    },
    {
      "cell_type": "markdown",
      "source": [
        "10) How can you append data to an existing file in Python?"
      ],
      "metadata": {
        "id": "AH9aEvk4s0lf"
      }
    },
    {
      "cell_type": "code",
      "source": [
        "# Open the file in append mode ('a')\n",
        "with open(\"example.txt\", \"a\") as file:\n",
        "    # Data to append\n",
        "    file.write(\"\\nThis is a new line that is appended to the file.\")\n",
        "\n",
        "print(\"Data appended successfully.\")\n"
      ],
      "metadata": {
        "colab": {
          "base_uri": "https://localhost:8080/"
        },
        "id": "BF_mrSbRBn5p",
        "outputId": "b40b1cb7-d05d-4e30-9f2b-d2e0b2828873"
      },
      "execution_count": 10,
      "outputs": [
        {
          "output_type": "stream",
          "name": "stdout",
          "text": [
            "Data appended successfully.\n"
          ]
        }
      ]
    },
    {
      "cell_type": "markdown",
      "source": [
        "11) Write a Python program that uses a try-except block to handle an error when attempting to access a\n",
        "dictionary key that doesn't exist?"
      ],
      "metadata": {
        "id": "ZyB-zyI9s0cX"
      }
    },
    {
      "cell_type": "code",
      "source": [
        "# Define a dictionary\n",
        "my_dict = {\n",
        "    'name': 'John',\n",
        "    'age': 30,\n",
        "    'city': 'New York'\n",
        "}\n",
        "\n",
        "# Attempt to access a non-existing key\n",
        "key_to_access = 'address'\n",
        "\n",
        "try:\n",
        "    # Try to access the value of the given key\n",
        "    value = my_dict[key_to_access]\n",
        "    print(f\"The value for '{key_to_access}' is: {value}\")\n",
        "except KeyError:\n",
        "    # Handle the case where the key doesn't exist in the dictionary\n",
        "    print(f\"Error: The key '{key_to_access}' does not exist in the dictionary.\")\n"
      ],
      "metadata": {
        "colab": {
          "base_uri": "https://localhost:8080/"
        },
        "id": "37q9BMWgBv1I",
        "outputId": "9e72d78b-5fe2-46a8-de33-8875885aae29"
      },
      "execution_count": 11,
      "outputs": [
        {
          "output_type": "stream",
          "name": "stdout",
          "text": [
            "Error: The key 'address' does not exist in the dictionary.\n"
          ]
        }
      ]
    },
    {
      "cell_type": "markdown",
      "source": [
        "12) Write a program that demonstrates using multiple except blocks to handle different types of exceptions?"
      ],
      "metadata": {
        "id": "IDyw2wLws0VW"
      }
    },
    {
      "cell_type": "code",
      "source": [
        "try:\n",
        "    # Demonstrating ZeroDivisionError\n",
        "    numerator = 10\n",
        "    denominator = 0\n",
        "    result = numerator / denominator  # This will raise ZeroDivisionError\n",
        "    print(f\"Result: {result}\")\n",
        "\n",
        "    # Demonstrating ValueError\n",
        "    user_input = \"abc\"\n",
        "    number = int(user_input)  # This will raise ValueError as 'abc' can't be converted to an integer\n",
        "\n",
        "    # Demonstrating FileNotFoundError\n",
        "    with open(\"non_existent_file.txt\", \"r\") as file:\n",
        "        content = file.read()  # This will raise FileNotFoundError if the file does not exist\n",
        "\n",
        "except ZeroDivisionError:\n",
        "    print(\"Error: Division by zero is not allowed.\")\n",
        "except ValueError:\n",
        "    print(\"Error: Invalid value provided. Could not convert to integer.\")\n",
        "except FileNotFoundError:\n",
        "    print(\"Error: The file does not exist.\")\n",
        "except Exception as e:\n",
        "    # Catch any other exception that is not specifically handled\n",
        "    print(f\"An unexpected error occurred: {e}\")\n"
      ],
      "metadata": {
        "colab": {
          "base_uri": "https://localhost:8080/"
        },
        "id": "gWLN47X-B5eG",
        "outputId": "da0c68d6-f88b-4b80-96c5-a6baa276085d"
      },
      "execution_count": 12,
      "outputs": [
        {
          "output_type": "stream",
          "name": "stdout",
          "text": [
            "Error: Division by zero is not allowed.\n"
          ]
        }
      ]
    },
    {
      "cell_type": "markdown",
      "source": [
        "13) How would you check if a file exists before attempting to read it in Python?"
      ],
      "metadata": {
        "id": "470bl110s0M2"
      }
    },
    {
      "cell_type": "code",
      "source": [
        "import os\n",
        "\n",
        "# Specify the file path\n",
        "file_path = \"example.txt\"\n",
        "\n",
        "# Check if the file exists\n",
        "if os.path.exists(file_path):\n",
        "    # If the file exists, open and read the file\n",
        "    with open(file_path, \"r\") as file:\n",
        "        content = file.read()\n",
        "        print(content)\n",
        "else:\n",
        "    print(f\"The file '{file_path}' does not exist.\")\n"
      ],
      "metadata": {
        "colab": {
          "base_uri": "https://localhost:8080/"
        },
        "id": "ry32bHBoCErR",
        "outputId": "5d8dc3c1-9a8c-4e9e-a58c-3b4990c6985d"
      },
      "execution_count": 13,
      "outputs": [
        {
          "output_type": "stream",
          "name": "stdout",
          "text": [
            "Hello, this is a string that will be written to the file.\n",
            "This is a new line that is appended to the file.\n"
          ]
        }
      ]
    },
    {
      "cell_type": "markdown",
      "source": [
        "14) Write a program that uses the logging module to log both informational and error messages?"
      ],
      "metadata": {
        "id": "pgota-tns0E4"
      }
    },
    {
      "cell_type": "code",
      "source": [
        "import logging\n",
        "\n",
        "# Configure the logging system\n",
        "logging.basicConfig(\n",
        "    filename='app.log',          # Log to a file named 'app.log'\n",
        "    level=logging.DEBUG,         # Set the logging level to DEBUG (captures all levels)\n",
        "    format='%(asctime)s - %(levelname)s - %(message)s',  # Log format\n",
        ")\n",
        "\n",
        "# Log an informational message\n",
        "logging.info(\"This is an informational message.\")\n",
        "\n",
        "try:\n",
        "    # Code that could raise an error\n",
        "    result = 10 / 0  # This will raise a ZeroDivisionError\n",
        "except ZeroDivisionError as e:\n",
        "    # Log an error message when an exception occurs\n",
        "    logging.error(f\"Error occurred: {e}\")\n",
        "\n",
        "# Another informational message\n",
        "logging.info(\"Program execution continues after handling the exception.\")\n"
      ],
      "metadata": {
        "colab": {
          "base_uri": "https://localhost:8080/"
        },
        "id": "ttolGH3bCOrK",
        "outputId": "b7d09a8b-9a71-4e50-b73c-f87eb4c9f0aa"
      },
      "execution_count": 14,
      "outputs": [
        {
          "output_type": "stream",
          "name": "stderr",
          "text": [
            "ERROR:root:Error occurred: division by zero\n"
          ]
        }
      ]
    },
    {
      "cell_type": "markdown",
      "source": [
        "15) Write a Python program that prints the content of a file and handles the case when the file is empty?"
      ],
      "metadata": {
        "id": "s_C3vQK1sz9o"
      }
    },
    {
      "cell_type": "code",
      "source": [
        "# Specify the file path\n",
        "file_path = \"example.txt\"\n",
        "\n",
        "try:\n",
        "    # Open the file in read mode\n",
        "    with open(file_path, \"r\") as file:\n",
        "        content = file.read()\n",
        "\n",
        "        # Check if the file is empty\n",
        "        if content:\n",
        "            print(\"File content:\")\n",
        "            print(content)\n",
        "        else:\n",
        "            print(\"The file is empty.\")\n",
        "\n",
        "except FileNotFoundError:\n",
        "    print(f\"Error: The file '{file_path}' does not exist.\")\n",
        "except IOError:\n",
        "    print(\"Error: An I/O error occurred while accessing the file.\")\n"
      ],
      "metadata": {
        "colab": {
          "base_uri": "https://localhost:8080/"
        },
        "id": "FiDfhHriCZbm",
        "outputId": "dd5ea652-76f1-4a1d-e219-72e1cde127a0"
      },
      "execution_count": 15,
      "outputs": [
        {
          "output_type": "stream",
          "name": "stdout",
          "text": [
            "File content:\n",
            "Hello, this is a string that will be written to the file.\n",
            "This is a new line that is appended to the file.\n"
          ]
        }
      ]
    },
    {
      "cell_type": "markdown",
      "source": [
        "16) Demonstrate how to use memory profiling to check the memory usage of a small program?\n"
      ],
      "metadata": {
        "id": "E11rTMk9sz3D"
      }
    },
    {
      "cell_type": "code",
      "source": [
        "pip install memory_profiler\n"
      ],
      "metadata": {
        "colab": {
          "base_uri": "https://localhost:8080/"
        },
        "id": "_tWcuFcFCjZ4",
        "outputId": "ff91865f-3a60-4e14-fbc0-6fca5f2c374e"
      },
      "execution_count": 16,
      "outputs": [
        {
          "output_type": "stream",
          "name": "stdout",
          "text": [
            "Collecting memory_profiler\n",
            "  Downloading memory_profiler-0.61.0-py3-none-any.whl.metadata (20 kB)\n",
            "Requirement already satisfied: psutil in /usr/local/lib/python3.10/dist-packages (from memory_profiler) (5.9.5)\n",
            "Downloading memory_profiler-0.61.0-py3-none-any.whl (31 kB)\n",
            "Installing collected packages: memory_profiler\n",
            "Successfully installed memory_profiler-0.61.0\n"
          ]
        }
      ]
    },
    {
      "cell_type": "code",
      "source": [
        "from memory_profiler import profile\n",
        "\n",
        "# Decorate the function to profile memory usage\n",
        "@profile\n",
        "def test_function():\n",
        "    # Simulating some operations that use memory\n",
        "    my_list = []\n",
        "    for i in range(100000):\n",
        "        my_list.append(i)\n",
        "    print(f\"List length: {len(my_list)}\")\n",
        "    return my_list\n",
        "\n",
        "if __name__ == \"__main__\":\n",
        "    test_function()\n"
      ],
      "metadata": {
        "colab": {
          "base_uri": "https://localhost:8080/"
        },
        "id": "NLq-pFiGCwiZ",
        "outputId": "fe60beb1-e2ec-44e7-d783-3b727178d183"
      },
      "execution_count": 17,
      "outputs": [
        {
          "output_type": "stream",
          "name": "stderr",
          "text": [
            "\n",
            "PYDEV DEBUGGER WARNING:\n",
            "sys.settrace() should not be used when the debugger is being used.\n",
            "This may cause the debugger to stop working correctly.\n",
            "If this is needed, please check: \n",
            "http://pydev.blogspot.com/2007/06/why-cant-pydev-debugger-work-with.html\n",
            "to see how to restore the debug tracing back correctly.\n",
            "Call Location:\n",
            "  File \"/usr/local/lib/python3.10/dist-packages/memory_profiler.py\", line 847, in enable\n",
            "    sys.settrace(self.trace_memory_usage)\n",
            "\n",
            "\n",
            "PYDEV DEBUGGER WARNING:\n",
            "sys.settrace() should not be used when the debugger is being used.\n",
            "This may cause the debugger to stop working correctly.\n",
            "If this is needed, please check: \n",
            "http://pydev.blogspot.com/2007/06/why-cant-pydev-debugger-work-with.html\n",
            "to see how to restore the debug tracing back correctly.\n",
            "Call Location:\n",
            "  File \"/usr/local/lib/python3.10/dist-packages/memory_profiler.py\", line 850, in disable\n",
            "    sys.settrace(self._original_trace_function)\n",
            "\n"
          ]
        },
        {
          "output_type": "stream",
          "name": "stdout",
          "text": [
            "ERROR: Could not find file <ipython-input-17-680b81cfade1>\n",
            "NOTE: %mprun can only be used on functions defined in physical files, and not in the IPython environment.\n",
            "List length: 100000\n"
          ]
        }
      ]
    },
    {
      "cell_type": "markdown",
      "source": [
        "17) Write a Python program to create and write a list of numbers to a file, one number per line?"
      ],
      "metadata": {
        "id": "LiZbzIcEszvb"
      }
    },
    {
      "cell_type": "code",
      "source": [
        "# List of numbers to write to the file\n",
        "numbers = [1, 2, 3, 4, 5, 6, 7, 8, 9, 10]\n",
        "\n",
        "# Open the file in write mode ('w')\n",
        "with open(\"numbers.txt\", \"w\") as file:\n",
        "    # Write each number to the file, one per line\n",
        "    for number in numbers:\n",
        "        file.write(f\"{number}\\n\")\n",
        "\n",
        "print(\"Numbers have been written to 'numbers.txt'.\")\n"
      ],
      "metadata": {
        "colab": {
          "base_uri": "https://localhost:8080/"
        },
        "id": "QJOJsOeLC8Aj",
        "outputId": "85a9a54f-9f76-4082-d03f-1450778141aa"
      },
      "execution_count": 18,
      "outputs": [
        {
          "output_type": "stream",
          "name": "stdout",
          "text": [
            "Numbers have been written to 'numbers.txt'.\n"
          ]
        }
      ]
    },
    {
      "cell_type": "markdown",
      "source": [
        "18) How would you implement a basic logging setup that logs to a file with rotation after 1MB?"
      ],
      "metadata": {
        "id": "Vgp7zkoasznL"
      }
    },
    {
      "cell_type": "code",
      "source": [
        "import logging\n",
        "from logging.handlers import RotatingFileHandler\n",
        "\n",
        "# Set up a rotating file handler\n",
        "log_file = \"app.log\"\n",
        "max_log_size = 1 * 1024 * 1024  # 1 MB in bytes\n",
        "backup_count = 3  # Keep the last 3 log files\n",
        "\n",
        "# Create a handler that writes log entries to a file and rotates it when the size exceeds 1 MB\n",
        "handler = RotatingFileHandler(log_file, maxBytes=max_log_size, backupCount=backup_count)\n",
        "\n",
        "# Set the logging format\n",
        "formatter = logging.Formatter('%(asctime)s - %(levelname)s - %(message)s')\n",
        "handler.setFormatter(formatter)\n",
        "\n",
        "# Set up the logger\n",
        "logger = logging.getLogger()\n",
        "logger.setLevel(logging.DEBUG)  # Set logging level to DEBUG (captures all log levels)\n",
        "logger.addHandler(handler)\n",
        "\n",
        "# Example log entries\n",
        "logger.debug(\"This is a debug message.\")\n",
        "logger.info(\"This is an informational message.\")\n",
        "logger.warning(\"This is a warning message.\")\n",
        "logger.error(\"This is an error message.\")\n",
        "logger.critical(\"This is a critical message.\")\n",
        "\n",
        "print(\"Logging setup with file rotation complete.\")\n"
      ],
      "metadata": {
        "colab": {
          "base_uri": "https://localhost:8080/"
        },
        "id": "fl2UsDQoDElJ",
        "outputId": "c3865367-ab4a-4bf6-b1dc-90acb3e2f56d"
      },
      "execution_count": 19,
      "outputs": [
        {
          "output_type": "stream",
          "name": "stderr",
          "text": [
            "DEBUG:root:This is a debug message.\n",
            "INFO:root:This is an informational message.\n",
            "WARNING:root:This is a warning message.\n",
            "ERROR:root:This is an error message.\n",
            "CRITICAL:root:This is a critical message.\n"
          ]
        },
        {
          "output_type": "stream",
          "name": "stdout",
          "text": [
            "Logging setup with file rotation complete.\n"
          ]
        }
      ]
    },
    {
      "cell_type": "markdown",
      "source": [
        "19) Write a program that handles both IndexError and KeyError using a try-except block?"
      ],
      "metadata": {
        "id": "b72S90CUszgR"
      }
    },
    {
      "cell_type": "code",
      "source": [
        "def handle_exceptions():\n",
        "    # Example 1: IndexError\n",
        "    my_list = [1, 2, 3]\n",
        "\n",
        "    try:\n",
        "        # Trying to access an index that does not exist (out of range)\n",
        "        print(my_list[5])  # This will raise IndexError\n",
        "    except IndexError as e:\n",
        "        print(f\"IndexError occurred: {e}\")\n",
        "\n",
        "    # Example 2: KeyError\n",
        "    my_dict = {'name': 'John', 'age': 30}\n",
        "\n",
        "    try:\n",
        "        # Trying to access a key that doesn't exist in the dictionary\n",
        "        print(my_dict['address'])  # This will raise KeyError\n",
        "    except KeyError as e:\n",
        "        print(f\"KeyError occurred: {e}\")\n",
        "\n",
        "# Call the function to demonstrate the exception handling\n",
        "handle_exceptions()\n"
      ],
      "metadata": {
        "colab": {
          "base_uri": "https://localhost:8080/"
        },
        "id": "bxEajrqKDOu7",
        "outputId": "61f76af7-20cc-40d5-b479-a96dd1fed485"
      },
      "execution_count": 20,
      "outputs": [
        {
          "output_type": "stream",
          "name": "stdout",
          "text": [
            "IndexError occurred: list index out of range\n",
            "KeyError occurred: 'address'\n"
          ]
        }
      ]
    },
    {
      "cell_type": "markdown",
      "source": [
        "20) How would you open a file and read its contents using a context manager in Python?\n",
        "\n"
      ],
      "metadata": {
        "id": "feoiKIU9szW_"
      }
    },
    {
      "cell_type": "code",
      "source": [
        "# File path to read\n",
        "file_path = 'example.txt'\n",
        "\n",
        "# Using a context manager to open the file\n",
        "with open(file_path, 'r') as file:\n",
        "    # Read the entire content of the file\n",
        "    content = file.read()\n",
        "    print(content)\n"
      ],
      "metadata": {
        "colab": {
          "base_uri": "https://localhost:8080/"
        },
        "id": "YVXp1KTFDZIT",
        "outputId": "9f8d5fd9-fcfb-4c5d-8d29-b1ac1c6e4369"
      },
      "execution_count": 21,
      "outputs": [
        {
          "output_type": "stream",
          "name": "stdout",
          "text": [
            "Hello, this is a string that will be written to the file.\n",
            "This is a new line that is appended to the file.\n"
          ]
        }
      ]
    },
    {
      "cell_type": "markdown",
      "source": [
        "21) Write a Python program that reads a file and prints the number of occurrences of a specific word?"
      ],
      "metadata": {
        "id": "S1h8jHi7szO3"
      }
    },
    {
      "cell_type": "code",
      "source": [
        "def count_word_occurrences(file_path, word_to_count):\n",
        "    try:\n",
        "        # Open the file in read mode\n",
        "        with open(file_path, 'r') as file:\n",
        "            content = file.read()\n",
        "\n",
        "        # Count the occurrences of the word\n",
        "        word_count = content.lower().split().count(word_to_count.lower())\n",
        "\n",
        "        print(f\"The word '{word_to_count}' appears {word_count} times in the file.\")\n",
        "\n",
        "    except FileNotFoundError:\n",
        "        print(f\"Error: The file '{file_path}' does not exist.\")\n",
        "    except IOError:\n",
        "        print(\"Error: An I/O error occurred while accessing the file.\")\n",
        "\n",
        "# Example usage\n",
        "file_path = 'example.txt'  # Replace with your file path\n",
        "word_to_count = 'the'  # Replace with the word you want to count\n",
        "\n",
        "count_word_occurrences(file_path, word_to_count)\n"
      ],
      "metadata": {
        "colab": {
          "base_uri": "https://localhost:8080/"
        },
        "id": "opzMhLIeDhBu",
        "outputId": "33710d60-a627-4921-c802-14ab896b2fba"
      },
      "execution_count": 22,
      "outputs": [
        {
          "output_type": "stream",
          "name": "stdout",
          "text": [
            "The word 'the' appears 2 times in the file.\n"
          ]
        }
      ]
    },
    {
      "cell_type": "markdown",
      "source": [
        "22) How can you check if a file is empty before attempting to read its contents?"
      ],
      "metadata": {
        "id": "_56xo-3HszGl"
      }
    },
    {
      "cell_type": "code",
      "source": [
        "import os\n",
        "\n",
        "def check_if_file_empty(file_path):\n",
        "    # Check if the file exists\n",
        "    if os.path.exists(file_path):\n",
        "        # Get file size\n",
        "        file_size = os.stat(file_path).st_size\n",
        "\n",
        "        if file_size == 0:\n",
        "            print(f\"The file '{file_path}' is empty.\")\n",
        "        else:\n",
        "            print(f\"The file '{file_path}' is not empty. Size: {file_size} bytes.\")\n",
        "    else:\n",
        "        print(f\"Error: The file '{file_path}' does not exist.\")\n",
        "\n",
        "# Example usage\n",
        "file_path = 'example.txt'  # Replace with your file path\n",
        "check_if_file_empty(file_path)\n"
      ],
      "metadata": {
        "colab": {
          "base_uri": "https://localhost:8080/"
        },
        "id": "DgRYSwgrDrIO",
        "outputId": "e7a73c8a-9591-4fb4-f8eb-41c7b2a6a2a3"
      },
      "execution_count": 23,
      "outputs": [
        {
          "output_type": "stream",
          "name": "stdout",
          "text": [
            "The file 'example.txt' is not empty. Size: 106 bytes.\n"
          ]
        }
      ]
    },
    {
      "cell_type": "markdown",
      "source": [
        "23) Write a Python program that writes to a log file when an error occurs during file handling?"
      ],
      "metadata": {
        "id": "XxtYuOnxsy-H"
      }
    },
    {
      "cell_type": "code",
      "source": [
        "import logging\n",
        "\n",
        "# Set up logging to a file\n",
        "logging.basicConfig(filename='file_handling_errors.log', level=logging.ERROR,\n",
        "                    format='%(asctime)s - %(levelname)s - %(message)s')\n",
        "\n",
        "def handle_file_operations(file_path, data_to_write):\n",
        "    try:\n",
        "        # Attempt to open the file and write data to it\n",
        "        with open(file_path, 'w') as file:\n",
        "            file.write(data_to_write)\n",
        "            print(f\"Data has been written to {file_path}.\")\n",
        "\n",
        "    except Exception as e:\n",
        "        # Log the error if an exception occurs during file operations\n",
        "        logging.error(f\"Error occurred while handling the file '{file_path}': {e}\")\n",
        "        print(f\"An error occurred. Please check the log file for details.\")\n",
        "\n",
        "def read_from_file(file_path):\n",
        "    try:\n",
        "        # Attempt to read data from the file\n",
        "        with open(file_path, 'r') as file:\n",
        "            content = file.read()\n",
        "            print(\"File content:\", content)\n",
        "\n",
        "    except Exception as e:\n",
        "        # Log the error if an exception occurs during file reading\n",
        "        logging.error(f\"Error occurred while reading the file '{file_path}': {e}\")\n",
        "        print(f\"An error occurred. Please check the log file for details.\")\n",
        "\n",
        "# Example usage\n",
        "file_path = 'example.txt'  # Replace with the file path you want to work with\n",
        "data_to_write = \"This is a test write operation.\"\n",
        "\n",
        "# Write to file\n",
        "handle_file_operations(file_path, data_to_write)\n",
        "\n",
        "# Read from file\n",
        "read_from_file(file_path)\n"
      ],
      "metadata": {
        "colab": {
          "base_uri": "https://localhost:8080/"
        },
        "id": "9-ut86xiD2Gm",
        "outputId": "f2474ebf-08f7-49ee-abbf-ec02a12dde22"
      },
      "execution_count": 24,
      "outputs": [
        {
          "output_type": "stream",
          "name": "stdout",
          "text": [
            "Data has been written to example.txt.\n",
            "File content: This is a test write operation.\n"
          ]
        }
      ]
    }
  ]
}